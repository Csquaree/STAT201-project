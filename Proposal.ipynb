{
 "cells": [
  {
   "cell_type": "markdown",
   "id": "2071c3de",
   "metadata": {
    "pycharm": {
     "name": "#%% md\n"
    }
   },
   "source": [
    "# Is there any difference between the proportions of high-school regular smokers in British Columbia and Ontario?"
   ]
  },
  {
   "cell_type": "code",
   "execution_count": 1,
   "id": "8235e0d8",
   "metadata": {
    "pycharm": {
     "name": "#%%\n"
    },
    "tags": []
   },
   "outputs": [
    {
     "name": "stderr",
     "output_type": "stream",
     "text": [
      "── \u001b[1mAttaching packages\u001b[22m ─────────────────────────────────────── tidyverse 1.3.1 ──\n",
      "\n",
      "\u001b[32m✔\u001b[39m \u001b[34mggplot2\u001b[39m 3.3.5     \u001b[32m✔\u001b[39m \u001b[34mpurrr  \u001b[39m 0.3.4\n",
      "\u001b[32m✔\u001b[39m \u001b[34mtibble \u001b[39m 3.1.6     \u001b[32m✔\u001b[39m \u001b[34mdplyr  \u001b[39m 1.0.8\n",
      "\u001b[32m✔\u001b[39m \u001b[34mtidyr  \u001b[39m 1.2.0     \u001b[32m✔\u001b[39m \u001b[34mstringr\u001b[39m 1.4.0\n",
      "\u001b[32m✔\u001b[39m \u001b[34mreadr  \u001b[39m 2.1.2     \u001b[32m✔\u001b[39m \u001b[34mforcats\u001b[39m 0.5.1\n",
      "\n",
      "Warning message:\n",
      "“package ‘tidyr’ was built under R version 4.1.2”\n",
      "Warning message:\n",
      "“package ‘readr’ was built under R version 4.1.2”\n",
      "── \u001b[1mConflicts\u001b[22m ────────────────────────────────────────── tidyverse_conflicts() ──\n",
      "\u001b[31m✖\u001b[39m \u001b[34mdplyr\u001b[39m::\u001b[32mfilter()\u001b[39m masks \u001b[34mstats\u001b[39m::filter()\n",
      "\u001b[31m✖\u001b[39m \u001b[34mdplyr\u001b[39m::\u001b[32mlag()\u001b[39m    masks \u001b[34mstats\u001b[39m::lag()\n",
      "\n"
     ]
    }
   ],
   "source": [
    "library(tidyverse)\n",
    "library(haven)"
   ]
  },
  {
   "cell_type": "markdown",
   "id": "8e8aea20",
   "metadata": {
    "pycharm": {
     "name": "#%% md\n"
    },
    "tags": []
   },
   "source": [
    "## Introduction\n",
    "\n",
    "#### Why we're interested in the topic\n",
    "Smoking becomes a common phenomenon among teenagers even though they know the negative effects of it. The prevalence of tobacco products makes it both more tempting to try and harder to quit for teenagers (Burton et al.). Scholars studying student smoking rates in ON (Reitsma and Manske) and BC (Johnson et al.) claim that the issue needs more attention as it causes severe health problems. Hence, our research analyses the problem by finding the **difference between the proportions of high-school regular smokers in British Columbia and Ontario**.\n",
    "\n",
    "#### Our data set\n",
    "We use the data obtained from a biennial school-based Health Canada's survey constructed in 2018/2019 that the studies smoking rates among Canadian students (Canada and Impact).\n",
    "\n",
    "#### Variables\n",
    "The variables we choose are aimed at defining our custom variable that determines whether a data set observation is a high-school student who is a regular smoker.\n",
    "\n",
    "| Variable   \t| Value   \t| Meaning                                                 \t|\n",
    "|------------\t|---------\t|---------------------------------------------------------\t|\n",
    "| **GRADE**  \t| [9, 12] \t| student is from a grade 9-12                            \t|\n",
    "| **DVRES**  \t| 1 or 3  \t| resident of Canada or has lived in Canada for 11+ years \t|\n",
    "| **TS_011** \t| 1 or 2  \t| will smoke a cigarette within next year                 \t|\n",
    "| **TV_010** \t| 1 or 2  \t| will use an e-cigarette within next year                \t|\n",
    "| **SS_040** \t| 1       \t| has smoked 100+ cigarettes                              \t|\n",
    "| **SS_060** \t| 7 or 8  \t| has smoked 20-30 cigarettes during the last 30 days     \t|\n",
    "| **WP_030** \t| 3 or 6  \t| has smoked every day in the past week                   \t|"
   ]
  },
  {
   "cell_type": "markdown",
   "id": "ebc90001-f446-462d-b1cd-c38af12322a7",
   "metadata": {},
   "source": [
    "## Methods\n",
    "\n",
    "#### Why our research is reliable\n",
    "* Data is from 2018-2019, so it is timely\n",
    "* Data set has many variables, so we can precisely define our \"regular smoker\" variable\n",
    "\n",
    "#### Calculation procedures for the final report\n",
    "We're conducting a hypothesis test of the difference between the proportions of high-school smoking students in BC and ON. Here's an outline:\n",
    "* Find point estimate\n",
    "* Use bootstrapping to create sampling distribution\n",
    "* Conduct hypothesis test using p-value\n",
    "    * Plot the bootstrap distribution with the p-value\n",
    "    * Decide on the rejection of H<sub>0</sub>\n",
    "* Conduct hypothesis test using CI\n",
    "    * Plot the bootstrap distribution with the CI endpoints\n",
    "* Compare the results of the p-value and CI approaches\n",
    "    \n",
    "Below we calculate the point estimate, i.e., we do the first step in the plan."
   ]
  },
  {
   "cell_type": "markdown",
   "id": "08c15286",
   "metadata": {
    "pycharm": {
     "name": "#%% md\n"
    }
   },
   "source": [
    "## Preliminary Data Analysis"
   ]
  },
  {
   "cell_type": "markdown",
   "id": "bf399ea1-9ae1-454c-a0a8-7478cacc6189",
   "metadata": {},
   "source": [
    "#### Reading the data"
   ]
  },
  {
   "cell_type": "code",
   "execution_count": 2,
   "id": "5e249921-db0a-4109-9d04-c3e7bf21b3a4",
   "metadata": {},
   "outputs": [
    {
     "ename": "ERROR",
     "evalue": "Error in open.connection(con, \"rb\"): HTTP error 500.\n",
     "output_type": "error",
     "traceback": [
      "Error in open.connection(con, \"rb\"): HTTP error 500.\nTraceback:\n",
      "1. read_sav(\"https://abacus.library.ubc.ca/api/access/datafile/95464?format=original&gbrecs=true\")",
      "2. readr::datasource(file)",
      "3. datasource_connection(file, skip, skip_empty_rows, comment, skip_quote)",
      "4. read_connection(path)",
      "5. open(con, \"rb\")",
      "6. open.connection(con, \"rb\")"
     ]
    }
   ],
   "source": [
    "data <- read_sav(\"https://abacus.library.ubc.ca/api/access/datafile/95464?format=original&gbrecs=true\")\n",
    "data %>%\n",
    "  head()"
   ]
  },
  {
   "cell_type": "markdown",
   "id": "c89fff47-e997-4ad1-b6ba-79956fcdfde8",
   "metadata": {},
   "source": [
    "#### Exploratory analysis"
   ]
  },
  {
   "cell_type": "markdown",
   "id": "f7dd1e2d-9a7c-4d28-b128-03cb734a5824",
   "metadata": {},
   "source": [
    "Next, we filter the data by `GRADE` and introduce a new categorical variable `regular_smoker` that takes values `yes` or `no`. This variable is derived from the \"regular smoker\" definition stated above, and it represents whether a student smokes regularly."
   ]
  },
  {
   "cell_type": "code",
   "execution_count": null,
   "id": "7357ef16-bc8c-43f0-af8f-1d887460e48f",
   "metadata": {
    "tags": []
   },
   "outputs": [],
   "source": [
    "all_provinces <- data %>%\n",
    "  filter(GRADE %in% 9:12) %>%\n",
    "  mutate(regular_smoker = if_else(\n",
    "    ((DVRES == 1 | DVRES == 3) &\n",
    "      (TS_011 %in% 1:2) &\n",
    "      (TV_010 %in% 1:2) &\n",
    "      (SS_040 == 1) &\n",
    "      (SS_060 %in% 7:8) &\n",
    "      (WP_030 == 3 | WP_030 == 6)),\n",
    "    \"yes\", \"no\"\n",
    "  )) %>%\n",
    "  filter(!is.na(regular_smoker)) %>%\n",
    "  mutate(province = as_factor(PROVID),\n",
    "         grade = as_factor(GRADE)) %>%\n",
    "  arrange(province) %>%\n",
    "  select(province, grade, regular_smoker)\n",
    "\n",
    "all_provinces %>%\n",
    "  tail(3)"
   ]
  },
  {
   "cell_type": "markdown",
   "id": "dcd02b62-7cf3-4ac5-8e76-efcbc112f7a4",
   "metadata": {},
   "source": [
    "Now we plot `all_provinces` data frame."
   ]
  },
  {
   "cell_type": "code",
   "execution_count": null,
   "id": "79d87566-da9d-4175-b3c3-bd973fc8dd7f",
   "metadata": {
    "tags": []
   },
   "outputs": [],
   "source": [
    "options(repr.plot.width = 20, repr.plot.height = 10)\n",
    "\n",
    "all_provinces %>%\n",
    "  filter(regular_smoker == \"yes\") %>%\n",
    "  ggplot(aes(x = province, fill = grade)) +\n",
    "  geom_bar(color = \"white\") +\n",
    "  labs(title = \"Number of Canadian High-school Students who Regularly Smoke by Province\",\n",
    "       x = \"Canada province\",\n",
    "       y = \"Number of high-school students\",\n",
    "       fill = \"Student grade\") +\n",
    "  coord_flip() +\n",
    "  theme(text = element_text(size = 20))"
   ]
  },
  {
   "cell_type": "markdown",
   "id": "7e041ec7-d282-4da9-81b6-04352af277a8",
   "metadata": {},
   "source": [
    "The bar chart shows that BC and ON have a small number of smoking high-school students comparing to other regions and that those students are from all all high-school grades.\n",
    "\n",
    "Since the numbers of regular smokers in the provinces of interest are approximately same, our point estimate is going to be close to 0."
   ]
  },
  {
   "cell_type": "markdown",
   "id": "505a24ba-3ba9-4228-946a-5405a1194bee",
   "metadata": {},
   "source": [
    "#### Point estimate calculation"
   ]
  },
  {
   "cell_type": "markdown",
   "id": "0988d9ea-3afd-49ec-9a8e-ccb5fbbfbd4a",
   "metadata": {},
   "source": [
    "Now we include the `province` in our filtering procedure and remove the `grade` column."
   ]
  },
  {
   "cell_type": "code",
   "execution_count": null,
   "id": "222a676a-528c-4a73-95d1-8122f08b95b4",
   "metadata": {},
   "outputs": [],
   "source": [
    "sample <- all_provinces %>%\n",
    "  filter(province == \"British Columbia\" | province == \"Ontario\") %>%\n",
    "  select(province, regular_smoker)\n",
    "\n",
    "sample %>%\n",
    "  distinct()"
   ]
  },
  {
   "cell_type": "markdown",
   "id": "a9e5472d-fd44-41b6-b3e5-554449650eb8",
   "metadata": {},
   "source": [
    "Then, we group our data set by the `province` variable and find the proportions."
   ]
  },
  {
   "cell_type": "code",
   "execution_count": null,
   "id": "100ed4d7-0e87-4239-89b8-bc14f74917b9",
   "metadata": {},
   "outputs": [],
   "source": [
    "sample_proportions <- sample %>%\n",
    "  group_by(province) %>%\n",
    "  summarise(prop = mean(regular_smoker == \"yes\"))\n",
    "sample_proportions"
   ]
  },
  {
   "cell_type": "markdown",
   "id": "a5074df9-2b4c-4133-9e0d-caea2dcf33a5",
   "metadata": {},
   "source": [
    "We subtract **the BC proportion from the ON proportion**, and it gives us the point estimate."
   ]
  },
  {
   "cell_type": "code",
   "execution_count": null,
   "id": "788bc904-ea37-4b6b-b8e3-7fd19e79c25b",
   "metadata": {},
   "outputs": [],
   "source": [
    "point_estimate <- \n",
    "  sample_proportions$prop[1] - sample_proportions$prop[2]\n",
    "\n",
    "point_estimate"
   ]
  },
  {
   "cell_type": "markdown",
   "id": "6553e5da-f3b7-4231-8885-aab4298e6a29",
   "metadata": {},
   "source": [
    "## Evaluation"
   ]
  },
  {
   "cell_type": "markdown",
   "id": "51275525-2eaa-4012-bb9f-14ac97d6f514",
   "metadata": {
    "tags": []
   },
   "source": [
    "#### Why further analysis is required\n",
    "The point estimate found above tells that there is a difference in the proportions. However, this point estimate doesn't take into consideration the standard error associated with it, so further analysis using hypothesis testing and CI techniques is required."
   ]
  },
  {
   "cell_type": "markdown",
   "id": "9619aae1-7659-4c7c-87cd-a444ab730008",
   "metadata": {},
   "source": [
    "#### Expectations\n",
    "We expect the true proportion difference to be a small value because our graph above and the point estimate show that there's a little difference between the sample proportions.\n",
    "\n",
    "#### Future questions\n",
    "Others can extend our research question by comparing the proportions of high-school smoking students between other Canadian provinces."
   ]
  },
  {
   "cell_type": "markdown",
   "id": "44567776",
   "metadata": {
    "pycharm": {
     "name": "#%% md\n"
    }
   },
   "source": [
    "## References\n",
    "Burton, Suzan, et al. “‘Smoking Is Bad, It’s Not Cool…yet\n",
    "I’m Still Doing It’: Cues for Tobacco Consumption in a ‘Dark’ Market.” *Journal\n",
    "of Business Research*, vol. 68, no. 10, 1 Oct. 2015, pp. 2067–2074,\n",
    "www.sciencedirect.com/science/article/pii/S0148296315001186, 10.1016/j.jbusres.2015.03.004.\n",
    "Accessed 14 Dec. 2021.\n",
    "\n",
    "Canada, Health, and PROPEL Centre for Population Health\n",
    "Impact. “2018/2019 Canadian Student Tobacco, Alcohol and Drugs Survey.” *Abacus.library.ubc.ca*,\n",
    "18 Nov. 2020, abacus.library.ubc.ca/dataset.xhtml?persistentId=hdl:11272.1/AB2/WEFOHY.\n",
    "Accessed 1 Mar. 2022.\n",
    "\n",
    "Johnson, Joy L., et al. “Socio-Demographic Correlates of\n",
    "Cigarette Smoking among High School Students.” *Canadian Journal of Public\n",
    "Health*, vol. 95, no. 4, July 2004, pp. 268–271, 10.1007/bf03405129.\n",
    "Accessed 5 May 2020.\n",
    "\n",
    "Reitsma, Angela H., and Steve Manske. “Smoking in Ontario\n",
    "Schools.” *Canadian Journal of Public Health*, vol. 95, no. 3, May 2004,\n",
    "pp. 214–218, 10.1007/bf03403652. Accessed 29 Oct. 2019."
   ]
  },
  {
   "cell_type": "markdown",
   "id": "fa18c521-5ed9-4d69-95c7-8a0d44e28063",
   "metadata": {},
   "source": [
    "**Word Count: 487**"
   ]
  }
 ],
 "metadata": {
  "kernelspec": {
   "display_name": "R",
   "language": "R",
   "name": "ir"
  },
  "language_info": {
   "codemirror_mode": "r",
   "file_extension": ".r",
   "mimetype": "text/x-r-source",
   "name": "R",
   "pygments_lexer": "r",
   "version": "4.1.1"
  }
 },
 "nbformat": 4,
 "nbformat_minor": 5
}
