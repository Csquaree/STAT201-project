{
 "cells": [
  {
   "cell_type": "markdown",
   "source": [
    "## Estimation of the proportion of <!!!> high-school students who regularly smoke"
   ],
   "metadata": {
    "collapsed": false,
    "pycharm": {
     "name": "#%% md\n"
    }
   }
  },
  {
   "cell_type": "code",
   "execution_count": 2,
   "outputs": [
    {
     "name": "stderr",
     "output_type": "stream",
     "text": [
      "── \u001B[1mAttaching packages\u001B[22m ─────────────────────────────────────── tidyverse 1.3.1 ──\n",
      "\n",
      "\u001B[32m✔\u001B[39m \u001B[34mggplot2\u001B[39m 3.3.5     \u001B[32m✔\u001B[39m \u001B[34mpurrr  \u001B[39m 0.3.4\n",
      "\u001B[32m✔\u001B[39m \u001B[34mtibble \u001B[39m 3.1.6     \u001B[32m✔\u001B[39m \u001B[34mdplyr  \u001B[39m 1.0.8\n",
      "\u001B[32m✔\u001B[39m \u001B[34mtidyr  \u001B[39m 1.2.0     \u001B[32m✔\u001B[39m \u001B[34mstringr\u001B[39m 1.4.0\n",
      "\u001B[32m✔\u001B[39m \u001B[34mreadr  \u001B[39m 2.1.2     \u001B[32m✔\u001B[39m \u001B[34mforcats\u001B[39m 0.5.1\n",
      "\n",
      "Warning message:\n",
      "“package ‘tidyr’ was built under R version 4.1.2”\n",
      "Warning message:\n",
      "“package ‘readr’ was built under R version 4.1.2”\n",
      "── \u001B[1mConflicts\u001B[22m ────────────────────────────────────────── tidyverse_conflicts() ──\n",
      "\u001B[31m✖\u001B[39m \u001B[34mdplyr\u001B[39m::\u001B[32mfilter()\u001B[39m masks \u001B[34mstats\u001B[39m::filter()\n",
      "\u001B[31m✖\u001B[39m \u001B[34mdplyr\u001B[39m::\u001B[32mlag()\u001B[39m    masks \u001B[34mstats\u001B[39m::lag()\n",
      "\n"
     ]
    }
   ],
   "source": [
    "library(tidyverse)\n",
    "library(haven)"
   ],
   "metadata": {
    "collapsed": false,
    "pycharm": {
     "name": "#%%\n"
    }
   }
  },
  {
   "cell_type": "markdown",
   "source": [
    "### Introduction\n",
    "..."
   ],
   "metadata": {
    "collapsed": false,
    "pycharm": {
     "name": "#%% md\n"
    }
   }
  },
  {
   "cell_type": "markdown",
   "source": [
    "### Preliminary Results\n",
    "..."
   ],
   "metadata": {
    "collapsed": false,
    "pycharm": {
     "name": "#%% md\n"
    }
   }
  },
  {
   "cell_type": "markdown",
   "source": [
    "### Methods\n",
    "...\n"
   ],
   "metadata": {
    "collapsed": false,
    "pycharm": {
     "name": "#%% md\n"
    }
   }
  },
  {
   "cell_type": "markdown",
   "source": [
    "### References\n",
    "..."
   ],
   "metadata": {
    "collapsed": false,
    "pycharm": {
     "name": "#%% md\n"
    }
   }
  }
 ],
 "metadata": {
  "kernelspec": {
   "display_name": "R",
   "language": "R",
   "name": "ir"
  },
  "language_info": {
   "codemirror_mode": "r",
   "file_extension": ".r",
   "mimetype": "text/x-r-source",
   "name": "R",
   "pygments_lexer": "r",
   "version": "4.1.1"
  }
 },
 "nbformat": 4,
 "nbformat_minor": 5
}