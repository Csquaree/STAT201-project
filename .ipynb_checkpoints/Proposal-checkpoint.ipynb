{
 "cells": [
  {
   "cell_type": "markdown",
   "id": "7704f239",
   "metadata": {},
   "source": [
    "### Introduction"
   ]
  },
  {
   "cell_type": "code",
   "execution_count": 1,
   "id": "5ca3747f",
   "metadata": {},
   "outputs": [],
   "source": [
    "x <- 10"
   ]
  },
  {
   "cell_type": "code",
   "execution_count": 2,
   "id": "16ba1a90-c01e-4dd2-8de6-160a4fd9177e",
   "metadata": {},
   "outputs": [
    {
     "data": {
      "text/html": [
       "10"
      ],
      "text/latex": [
       "10"
      ],
      "text/markdown": [
       "10"
      ],
      "text/plain": [
       "[1] 10"
      ]
     },
     "metadata": {},
     "output_type": "display_data"
    }
   ],
   "source": [
    "x"
   ]
  },
  {
   "cell_type": "code",
   "execution_count": 3,
   "id": "b272906c-fb34-4d1b-9eb2-17f1f3f63c1a",
   "metadata": {},
   "outputs": [],
   "source": [
    "y <- 20"
   ]
  },
  {
   "cell_type": "code",
   "execution_count": 4,
   "id": "e6be3b02-3df6-4288-b546-d1dd1e6d7576",
   "metadata": {},
   "outputs": [
    {
     "data": {
      "text/html": [
       "20"
      ],
      "text/latex": [
       "20"
      ],
      "text/markdown": [
       "20"
      ],
      "text/plain": [
       "[1] 20"
      ]
     },
     "metadata": {},
     "output_type": "display_data"
    }
   ],
   "source": [
    "y"
   ]
  },
  {
   "cell_type": "code",
   "execution_count": 1,
   "id": "432f25c5-edb0-4cda-ad3c-841ca223cdb0",
   "metadata": {},
   "outputs": [],
   "source": [
    "z <- 30"
   ]
  },
  {
   "cell_type": "code",
   "execution_count": 2,
   "id": "3c08ba9d-0076-453f-8b9d-3af0ce0b89bb",
   "metadata": {},
   "outputs": [
    {
     "data": {
      "text/html": [
       "30"
      ],
      "text/latex": [
       "30"
      ],
      "text/markdown": [
       "30"
      ],
      "text/plain": [
       "[1] 30"
      ]
     },
     "metadata": {},
     "output_type": "display_data"
    }
   ],
   "source": [
    "z"
   ]
  },
  {
   "cell_type": "code",
   "execution_count": 1,
   "id": "1758cf93-da6e-413f-820a-6cf8c4f804a3",
   "metadata": {},
   "outputs": [],
   "source": [
    "name <- \"Csquare\""
   ]
  },
  {
   "cell_type": "code",
   "execution_count": 2,
   "id": "fa679fbb-ef96-4e81-a9d8-9c182ad7fd9c",
   "metadata": {},
   "outputs": [
    {
     "data": {
      "text/html": [
       "'Csquare'"
      ],
      "text/latex": [
       "'Csquare'"
      ],
      "text/markdown": [
       "'Csquare'"
      ],
      "text/plain": [
       "[1] \"Csquare\""
      ]
     },
     "metadata": {},
     "output_type": "display_data"
    }
   ],
   "source": [
    "name"
   ]
  },
  {
   "cell_type": "code",
   "execution_count": null,
   "id": "d937295d-fdd8-4423-8858-7a3fdf55a61d",
   "metadata": {},
   "outputs": [],
   "source": []
  }
 ],
 "metadata": {
  "kernelspec": {
   "display_name": "R",
   "language": "R",
   "name": "ir"
  },
  "language_info": {
   "codemirror_mode": "r",
   "file_extension": ".r",
   "mimetype": "text/x-r-source",
   "name": "R",
   "pygments_lexer": "r",
   "version": "4.1.1"
  }
 },
 "nbformat": 4,
 "nbformat_minor": 5
}
