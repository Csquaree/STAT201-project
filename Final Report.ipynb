{
 "cells": [
  {
   "cell_type": "markdown",
   "id": "d6fcd4d3",
   "metadata": {
    "pycharm": {
     "name": "#%% md\n"
    }
   },
   "source": [
    "# Is there any difference between the proportions of high-school regular smokers in British Columbia and Ontario?"
   ]
  },
  {
   "cell_type": "code",
   "execution_count": 3,
   "id": "dab5eecb",
   "metadata": {
    "pycharm": {
     "name": "#%%\n"
    },
    "tags": []
   },
   "outputs": [
    {
     "name": "stderr",
     "output_type": "stream",
     "text": [
      "── \u001b[1mAttaching packages\u001b[22m ─────────────────────────────────────── tidyverse 1.3.1 ──\n",
      "\n",
      "\u001b[32m✔\u001b[39m \u001b[34mggplot2\u001b[39m 3.3.5     \u001b[32m✔\u001b[39m \u001b[34mpurrr  \u001b[39m 0.3.4\n",
      "\u001b[32m✔\u001b[39m \u001b[34mtibble \u001b[39m 3.1.6     \u001b[32m✔\u001b[39m \u001b[34mdplyr  \u001b[39m 1.0.8\n",
      "\u001b[32m✔\u001b[39m \u001b[34mtidyr  \u001b[39m 1.2.0     \u001b[32m✔\u001b[39m \u001b[34mstringr\u001b[39m 1.4.0\n",
      "\u001b[32m✔\u001b[39m \u001b[34mreadr  \u001b[39m 2.1.2     \u001b[32m✔\u001b[39m \u001b[34mforcats\u001b[39m 0.5.1\n",
      "\n",
      "Warning message:\n",
      "“package ‘tidyr’ was built under R version 4.1.2”\n",
      "Warning message:\n",
      "“package ‘readr’ was built under R version 4.1.2”\n",
      "── \u001b[1mConflicts\u001b[22m ────────────────────────────────────────── tidyverse_conflicts() ──\n",
      "\u001b[31m✖\u001b[39m \u001b[34mdplyr\u001b[39m::\u001b[32mfilter()\u001b[39m masks \u001b[34mstats\u001b[39m::filter()\n",
      "\u001b[31m✖\u001b[39m \u001b[34mdplyr\u001b[39m::\u001b[32mlag()\u001b[39m    masks \u001b[34mstats\u001b[39m::lag()\n",
      "\n"
     ]
    }
   ],
   "source": [
    "library(tidyverse)\n",
    "library(haven)\n",
    "library(infer)"
   ]
  },
  {
   "cell_type": "markdown",
   "id": "abd62667",
   "metadata": {
    "pycharm": {
     "name": "#%% md\n"
    },
    "tags": []
   },
   "source": [
    "## Introduction (430 words)\n",
    "\n",
    "#### Why we're interested in the topic\n",
    "Smoking becomes a common phenomenon among teenagers even though they know the negative effects of it. The prevalence of tobacco products makes it both more tempting to try and harder to quit for teenagers (Burton et al.). Scholars studying student smoking rates in ON (Reitsma and Manske) and BC (Johnson et al.) claim that the issue needs more attention as it causes severe health problems. ***We chose those two regions because !!!***. Hence, our research analyses the problem by finding the **difference between the proportions of high-school regular smokers in British Columbia and Ontario**.\n",
    "\n",
    "Most smokers are aware of the negative effects of smoking. But there are biological and sociological factors which are preventing them from quitting it. That is, from one side many of the ingredients in tobacco products are addictive, so they cause the physiological demand (Burton et al.). From the other perspective, smokers who want to quit experience sociological pressure as their peers may consume tobacco products daily, i.e., those who want to quit might see others smoking and smell the cigarettes (Burton et al.). Thus, biological and sociological factors make it hard to quit smoking. However, if those willing to quit surround themselves with ex-smokers, their prospects of removing the cigarette addiction become much more viable (Burton et al.).\n",
    "\n",
    "#### Why our data set is reliable\n",
    "We use the data obtained by *Health Canada’s 2018/2019 Canadian Student Tobacco, Alcohol and Drugs Survey (CSTADS)* which is a biennial school-based Health Canada's survey constructed in 2018/2019 that studies smoking rates among Canadian students in grades 7 through 12 (Canada and Impact). This data set is relatively new, and because of the reasons outlined below we think that this set is trustworthy.\n",
    "\n",
    "CSTADS has been conducted since 1994, and starting from 2016/2017 survey, they expanded the survey coverage to grades 9-12 as those students were generally more involved in smoking. This procedure change made the survey more focused and allowed us to use their data set as high-school students is the target population of our research paper.\n",
    "\n",
    "Moreover, to further improve the survey methodology and understand the causes behind smoking, the scientists considered other factors that may affect tobacco consumption. By surveying school staff and administrators, students and the parents, they found that alcohol use, drugs, bullying and even sleep related problems may cause smoking. Furthermore, the student sample collection procedure was very rigorous. They used a \"stratified single stage cluster\" design which allowed them to get \"adequate sample sizes inside the strata and increased precision\" (Canada and Impact). Thus, the data collection methodology ensured independence between observations, and therefore, greatly reduced the bias.\n",
    "\n",
    "Thus, based on all the arguments above, we conclude that this data set is trustworthy."
   ]
  },
  {
   "cell_type": "markdown",
   "id": "25d16f57-f15a-4f03-af2b-5ddf18b84b8e",
   "metadata": {},
   "source": [
    "## Variables (149 words)\n",
    "The variables we choose are aimed at defining our custom boolean variable that determines whether a data set observation is a high-school student who is a regular smoker. Using these parameters, we can filter our data set to only contain the population of interest, i.e., high-school students from BC and ON.\n",
    "\n",
    "We then use our derived variable `regular_smoker` to calculate the proportion of students who regularly smoke in those provinces.\n",
    "\n",
    "#### How we define population\n",
    "Here are the variables that allow us to filter the data and obtain the subset representing the population we're interested in.\n",
    "\n",
    "| Variable   \t| Value    \t| Meaning                                                    \t|\n",
    "|------------\t|----------\t|------------------------------------------------------------\t|\n",
    "| **GRADE**  \t| [9, 12]  \t| student is from a grade 9 to 12                            \t|\n",
    "| **PROVID** \t| 35 or 59 \t| **35** - student is from ON<br>**59** - student is from BC \t|\n",
    "\n",
    "#### How we derive our custom variable\n",
    "Our data set has many variables, so we can use these ones to precisely define our **regular smoker**.\n",
    "\n",
    "| Variable   \t| Value  \t| Meaning                                                                                                                        \t|\n",
    "|------------\t|--------\t|--------------------------------------------------------------------------------------------------------------------------------\t|\n",
    "| **DVRES**  \t| 1 or 3 \t| **1** - resident of Canada, <br>**3** - lived in Canada for 11+ years                                                          \t|\n",
    "| **TS_011** \t| 1 or 2 \t| **1** - will *definitely* smoke a cigarette within next year<br>**2** - will *probably* smoke a cigarette within next year         \t|\n",
    "| **TV_010** \t| 1 or 2 \t| **1** - will *definitely* smoke an e-cigarette within next year<br>**2** - will *probably* smoke an e-cigarette within next year \t|\n",
    "| **SS_040** \t| 1      \t| **1** - smoked 100+ cigarettes                                                                                                 \t|\n",
    "| **SS_060** \t| 8 \t| **8** - smoked every day in the last month                                    \t|\n",
    "| **WP_030** \t| 3 or 6 \t| **3** - smoked every day in the past week<br>**6** - smoked on weekdays and weekends, but not every day                        \t|                   \t|\n",
    "\n",
    "* `TS_011` and `TV_010` show that a student is intending to smoke within the next year, which would be a characteristic of a regular smoker\n",
    "* `SS_040`, `SS_060`, and `WP_030` all show that the given individual has a history of smoking regularly\n",
    "\n",
    "Thus, our **regular smoker** is a high-school student from BC or ON whose smoking habits correspond to the variables above."
   ]
  },
  {
   "cell_type": "markdown",
   "id": "e3fd27a9",
   "metadata": {},
   "source": [
    "## Methods\n",
    "\n",
    "We're conducting a hypothesis test of the difference between the proportions of high-school smoking students in BC and ON. Here's an outline:\n",
    "* Calculate point estimate\n",
    "* Use bootstrapping to create sampling distribution\n",
    "* Conduct hypothesis test using p-value\n",
    "    * Plot the bootstrap distribution with the p-value\n",
    "    * Decide on the rejection of H<sub>0</sub>\n",
    "* Conduct hypothesis test using CI\n",
    "    * Plot the bootstrap distribution with the CI endpoints\n",
    "* Compare the results of the p-value and CI approaches"
   ]
  },
  {
   "cell_type": "markdown",
   "id": "3e753884",
   "metadata": {
    "pycharm": {
     "name": "#%% md\n"
    }
   },
   "source": [
    "## Preliminary Data Analysis (344 words)"
   ]
  },
  {
   "cell_type": "markdown",
   "id": "ce1df175",
   "metadata": {},
   "source": [
    "#### Reading the data"
   ]
  },
  {
   "cell_type": "code",
   "execution_count": 33,
   "id": "51b9e461",
   "metadata": {},
   "outputs": [
    {
     "data": {
      "text/html": [
       "<table class=\"dataframe\">\n",
       "<caption>A tibble: 6 × 185</caption>\n",
       "<thead>\n",
       "\t<tr><th scope=col>SCANID</th><th scope=col>MODULE</th><th scope=col>PROVID</th><th scope=col>SCHID</th><th scope=col>GRADE</th><th scope=col>SEX</th><th scope=col>SS_010</th><th scope=col>SS_020</th><th scope=col>TS_011</th><th scope=col>TV_010</th><th scope=col>⋯</th><th scope=col>DVTY2ST</th><th scope=col>DVLAST30</th><th scope=col>DVAMTSMK</th><th scope=col>DVCIGWK</th><th scope=col>DVNDSMK</th><th scope=col>DVAVCIGD</th><th scope=col>DVRES</th><th scope=col>DVURBAN</th><th scope=col>DVHHINC2</th><th scope=col>WTPP</th></tr>\n",
       "\t<tr><th scope=col>&lt;dbl&gt;</th><th scope=col>&lt;dbl+lbl&gt;</th><th scope=col>&lt;dbl+lbl&gt;</th><th scope=col>&lt;dbl&gt;</th><th scope=col>&lt;dbl+lbl&gt;</th><th scope=col>&lt;dbl+lbl&gt;</th><th scope=col>&lt;dbl+lbl&gt;</th><th scope=col>&lt;dbl+lbl&gt;</th><th scope=col>&lt;dbl+lbl&gt;</th><th scope=col>&lt;dbl+lbl&gt;</th><th scope=col>⋯</th><th scope=col>&lt;dbl+lbl&gt;</th><th scope=col>&lt;dbl+lbl&gt;</th><th scope=col>&lt;dbl+lbl&gt;</th><th scope=col>&lt;dbl+lbl&gt;</th><th scope=col>&lt;dbl+lbl&gt;</th><th scope=col>&lt;dbl+lbl&gt;</th><th scope=col>&lt;dbl+lbl&gt;</th><th scope=col>&lt;dbl+lbl&gt;</th><th scope=col>&lt;dbl&gt;</th><th scope=col>&lt;dbl&gt;</th></tr>\n",
       "</thead>\n",
       "<tbody>\n",
       "\t<tr><td>100224</td><td>1</td><td>35</td><td>3589267</td><td> 9</td><td>1</td><td>1</td><td>13</td><td>2</td><td>3</td><td>⋯</td><td>1</td><td>1</td><td> 1</td><td> 8</td><td> 5</td><td> 2</td><td>1</td><td>2</td><td>60000</td><td> 33.15</td></tr>\n",
       "\t<tr><td>100225</td><td>1</td><td>35</td><td>3589267</td><td> 9</td><td>1</td><td>1</td><td>13</td><td>1</td><td>1</td><td>⋯</td><td>1</td><td>1</td><td>10</td><td>70</td><td> 7</td><td>10</td><td>1</td><td>2</td><td>60000</td><td> 33.15</td></tr>\n",
       "\t<tr><td>100226</td><td>1</td><td>35</td><td>3589267</td><td>12</td><td>1</td><td>2</td><td>NA</td><td>4</td><td>3</td><td>⋯</td><td>7</td><td>2</td><td>NA</td><td>NA</td><td>NA</td><td>NA</td><td>3</td><td>2</td><td>60000</td><td> 75.14</td></tr>\n",
       "\t<tr><td>100227</td><td>1</td><td>35</td><td>3589267</td><td>12</td><td>2</td><td>1</td><td>NA</td><td>3</td><td>2</td><td>⋯</td><td>4</td><td>1</td><td> 0</td><td> 0</td><td> 0</td><td> 0</td><td>1</td><td>2</td><td>60000</td><td>105.70</td></tr>\n",
       "\t<tr><td>100228</td><td>1</td><td>35</td><td>3589267</td><td>12</td><td>1</td><td>1</td><td>NA</td><td>3</td><td>3</td><td>⋯</td><td>6</td><td>2</td><td>NA</td><td>NA</td><td>NA</td><td>NA</td><td>1</td><td>2</td><td>60000</td><td> 75.14</td></tr>\n",
       "\t<tr><td>100229</td><td>1</td><td>35</td><td>3589267</td><td>11</td><td>1</td><td>2</td><td>NA</td><td>4</td><td>3</td><td>⋯</td><td>7</td><td>2</td><td>NA</td><td>NA</td><td>NA</td><td>NA</td><td>1</td><td>2</td><td>60000</td><td> 63.87</td></tr>\n",
       "</tbody>\n",
       "</table>\n"
      ],
      "text/latex": [
       "A tibble: 6 × 185\n",
       "\\begin{tabular}{lllllllllllllllllllll}\n",
       " SCANID & MODULE & PROVID & SCHID & GRADE & SEX & SS\\_010 & SS\\_020 & TS\\_011 & TV\\_010 & ⋯ & DVTY2ST & DVLAST30 & DVAMTSMK & DVCIGWK & DVNDSMK & DVAVCIGD & DVRES & DVURBAN & DVHHINC2 & WTPP\\\\\n",
       " <dbl> & <dbl+lbl> & <dbl+lbl> & <dbl> & <dbl+lbl> & <dbl+lbl> & <dbl+lbl> & <dbl+lbl> & <dbl+lbl> & <dbl+lbl> & ⋯ & <dbl+lbl> & <dbl+lbl> & <dbl+lbl> & <dbl+lbl> & <dbl+lbl> & <dbl+lbl> & <dbl+lbl> & <dbl+lbl> & <dbl> & <dbl>\\\\\n",
       "\\hline\n",
       "\t 100224 & 1 & 35 & 3589267 &  9 & 1 & 1 & 13 & 2 & 3 & ⋯ & 1 & 1 &  1 &  8 &  5 &  2 & 1 & 2 & 60000 &  33.15\\\\\n",
       "\t 100225 & 1 & 35 & 3589267 &  9 & 1 & 1 & 13 & 1 & 1 & ⋯ & 1 & 1 & 10 & 70 &  7 & 10 & 1 & 2 & 60000 &  33.15\\\\\n",
       "\t 100226 & 1 & 35 & 3589267 & 12 & 1 & 2 & NA & 4 & 3 & ⋯ & 7 & 2 & NA & NA & NA & NA & 3 & 2 & 60000 &  75.14\\\\\n",
       "\t 100227 & 1 & 35 & 3589267 & 12 & 2 & 1 & NA & 3 & 2 & ⋯ & 4 & 1 &  0 &  0 &  0 &  0 & 1 & 2 & 60000 & 105.70\\\\\n",
       "\t 100228 & 1 & 35 & 3589267 & 12 & 1 & 1 & NA & 3 & 3 & ⋯ & 6 & 2 & NA & NA & NA & NA & 1 & 2 & 60000 &  75.14\\\\\n",
       "\t 100229 & 1 & 35 & 3589267 & 11 & 1 & 2 & NA & 4 & 3 & ⋯ & 7 & 2 & NA & NA & NA & NA & 1 & 2 & 60000 &  63.87\\\\\n",
       "\\end{tabular}\n"
      ],
      "text/markdown": [
       "\n",
       "A tibble: 6 × 185\n",
       "\n",
       "| SCANID &lt;dbl&gt; | MODULE &lt;dbl+lbl&gt; | PROVID &lt;dbl+lbl&gt; | SCHID &lt;dbl&gt; | GRADE &lt;dbl+lbl&gt; | SEX &lt;dbl+lbl&gt; | SS_010 &lt;dbl+lbl&gt; | SS_020 &lt;dbl+lbl&gt; | TS_011 &lt;dbl+lbl&gt; | TV_010 &lt;dbl+lbl&gt; | ⋯ ⋯ | DVTY2ST &lt;dbl+lbl&gt; | DVLAST30 &lt;dbl+lbl&gt; | DVAMTSMK &lt;dbl+lbl&gt; | DVCIGWK &lt;dbl+lbl&gt; | DVNDSMK &lt;dbl+lbl&gt; | DVAVCIGD &lt;dbl+lbl&gt; | DVRES &lt;dbl+lbl&gt; | DVURBAN &lt;dbl+lbl&gt; | DVHHINC2 &lt;dbl&gt; | WTPP &lt;dbl&gt; |\n",
       "|---|---|---|---|---|---|---|---|---|---|---|---|---|---|---|---|---|---|---|---|---|\n",
       "| 100224 | 1 | 35 | 3589267 |  9 | 1 | 1 | 13 | 2 | 3 | ⋯ | 1 | 1 |  1 |  8 |  5 |  2 | 1 | 2 | 60000 |  33.15 |\n",
       "| 100225 | 1 | 35 | 3589267 |  9 | 1 | 1 | 13 | 1 | 1 | ⋯ | 1 | 1 | 10 | 70 |  7 | 10 | 1 | 2 | 60000 |  33.15 |\n",
       "| 100226 | 1 | 35 | 3589267 | 12 | 1 | 2 | NA | 4 | 3 | ⋯ | 7 | 2 | NA | NA | NA | NA | 3 | 2 | 60000 |  75.14 |\n",
       "| 100227 | 1 | 35 | 3589267 | 12 | 2 | 1 | NA | 3 | 2 | ⋯ | 4 | 1 |  0 |  0 |  0 |  0 | 1 | 2 | 60000 | 105.70 |\n",
       "| 100228 | 1 | 35 | 3589267 | 12 | 1 | 1 | NA | 3 | 3 | ⋯ | 6 | 2 | NA | NA | NA | NA | 1 | 2 | 60000 |  75.14 |\n",
       "| 100229 | 1 | 35 | 3589267 | 11 | 1 | 2 | NA | 4 | 3 | ⋯ | 7 | 2 | NA | NA | NA | NA | 1 | 2 | 60000 |  63.87 |\n",
       "\n"
      ],
      "text/plain": [
       "  SCANID MODULE PROVID SCHID   GRADE SEX SS_010 SS_020 TS_011 TV_010 ⋯ DVTY2ST\n",
       "1 100224 1      35     3589267  9    1   1      13     2      3      ⋯ 1      \n",
       "2 100225 1      35     3589267  9    1   1      13     1      1      ⋯ 1      \n",
       "3 100226 1      35     3589267 12    1   2      NA     4      3      ⋯ 7      \n",
       "4 100227 1      35     3589267 12    2   1      NA     3      2      ⋯ 4      \n",
       "5 100228 1      35     3589267 12    1   1      NA     3      3      ⋯ 6      \n",
       "6 100229 1      35     3589267 11    1   2      NA     4      3      ⋯ 7      \n",
       "  DVLAST30 DVAMTSMK DVCIGWK DVNDSMK DVAVCIGD DVRES DVURBAN DVHHINC2 WTPP  \n",
       "1 1         1        8       5       2       1     2       60000     33.15\n",
       "2 1        10       70       7      10       1     2       60000     33.15\n",
       "3 2        NA       NA      NA      NA       3     2       60000     75.14\n",
       "4 1         0        0       0       0       1     2       60000    105.70\n",
       "5 2        NA       NA      NA      NA       1     2       60000     75.14\n",
       "6 2        NA       NA      NA      NA       1     2       60000     63.87"
      ]
     },
     "metadata": {},
     "output_type": "display_data"
    }
   ],
   "source": [
    "set.seed(1234)\n",
    "\n",
    "# Reading the data and presenting the first few rows of it as a table\n",
    "data <- read_sav(\"./data/dataset.sav\")\n",
    "data %>%\n",
    "  head()\n",
    "\n",
    "# Default text size for the plots\n",
    "text_size <- 18"
   ]
  },
  {
   "cell_type": "markdown",
   "id": "f5d881e9",
   "metadata": {},
   "source": [
    "#### Exploratory analysis"
   ]
  },
  {
   "cell_type": "markdown",
   "id": "4e558350",
   "metadata": {},
   "source": [
    "As described above, we're going to study students from BC and ON and use the derived categorical variable called `regular_smoker`. This boolean variable can be `yes` or `no`, which specifies whether the observed high-school student is a regular smoker."
   ]
  },
  {
   "cell_type": "code",
   "execution_count": 36,
   "id": "fe0b3fcc",
   "metadata": {
    "tags": []
   },
   "outputs": [
    {
     "data": {
      "text/html": [
       "<table class=\"dataframe\">\n",
       "<caption>A tibble: 3 × 3</caption>\n",
       "<thead>\n",
       "\t<tr><th scope=col>province</th><th scope=col>grade</th><th scope=col>regular_smoker</th></tr>\n",
       "\t<tr><th scope=col>&lt;fct&gt;</th><th scope=col>&lt;fct&gt;</th><th scope=col>&lt;chr&gt;</th></tr>\n",
       "</thead>\n",
       "<tbody>\n",
       "\t<tr><td>British Columbia</td><td>Grade 10</td><td>no</td></tr>\n",
       "\t<tr><td>British Columbia</td><td>Grade 10</td><td>no</td></tr>\n",
       "\t<tr><td>British Columbia</td><td>Grade 10</td><td>no</td></tr>\n",
       "</tbody>\n",
       "</table>\n"
      ],
      "text/latex": [
       "A tibble: 3 × 3\n",
       "\\begin{tabular}{lll}\n",
       " province & grade & regular\\_smoker\\\\\n",
       " <fct> & <fct> & <chr>\\\\\n",
       "\\hline\n",
       "\t British Columbia & Grade 10 & no\\\\\n",
       "\t British Columbia & Grade 10 & no\\\\\n",
       "\t British Columbia & Grade 10 & no\\\\\n",
       "\\end{tabular}\n"
      ],
      "text/markdown": [
       "\n",
       "A tibble: 3 × 3\n",
       "\n",
       "| province &lt;fct&gt; | grade &lt;fct&gt; | regular_smoker &lt;chr&gt; |\n",
       "|---|---|---|\n",
       "| British Columbia | Grade 10 | no |\n",
       "| British Columbia | Grade 10 | no |\n",
       "| British Columbia | Grade 10 | no |\n",
       "\n"
      ],
      "text/plain": [
       "  province         grade    regular_smoker\n",
       "1 British Columbia Grade 10 no            \n",
       "2 British Columbia Grade 10 no            \n",
       "3 British Columbia Grade 10 no            "
      ]
     },
     "metadata": {},
     "output_type": "display_data"
    }
   ],
   "source": [
    "# Using the \"Variables\" section table values,\n",
    "# this code creates a new column `regular_smoker` and\n",
    "# filters the data set to contain only observations of BC and ON students\n",
    "\n",
    "tidy_data <- data %>%\n",
    "  filter(GRADE %in% 9:12,\n",
    "         PROVID == 35 | PROVID == 59) %>%\n",
    "  mutate(regular_smoker = if_else(\n",
    "    ((DVRES == 1 | DVRES == 3) &\n",
    "      (TS_011 %in% 1:2) &\n",
    "      (TV_010 %in% 1:2) &\n",
    "      (SS_040 == 1) &\n",
    "      (SS_060 == 8) &\n",
    "      (WP_030 == 3 | WP_030 == 6)),\n",
    "    \"yes\", \"no\"\n",
    "  )) %>%\n",
    "  filter(!is.na(regular_smoker)) %>%\n",
    "  mutate(province = as_factor(PROVID),\n",
    "         grade = as_factor(GRADE)) %>%\n",
    "  arrange(province) %>%\n",
    "  select(province, grade, regular_smoker)\n",
    "\n",
    "tidy_data %>%\n",
    "  tail(3)"
   ]
  },
  {
   "cell_type": "markdown",
   "id": "ff78ceb0",
   "metadata": {},
   "source": [
    "We can also find how many observations our filtered data set has."
   ]
  },
  {
   "cell_type": "code",
   "execution_count": 37,
   "id": "3ffb471e",
   "metadata": {},
   "outputs": [
    {
     "data": {
      "text/html": [
       "<table class=\"dataframe\">\n",
       "<caption>A tibble: 2 × 2</caption>\n",
       "<thead>\n",
       "\t<tr><th scope=col>province</th><th scope=col>obs_count</th></tr>\n",
       "\t<tr><th scope=col>&lt;fct&gt;</th><th scope=col>&lt;int&gt;</th></tr>\n",
       "</thead>\n",
       "<tbody>\n",
       "\t<tr><td>Ontario         </td><td>2754</td></tr>\n",
       "\t<tr><td>British Columbia</td><td>4244</td></tr>\n",
       "</tbody>\n",
       "</table>\n"
      ],
      "text/latex": [
       "A tibble: 2 × 2\n",
       "\\begin{tabular}{ll}\n",
       " province & obs\\_count\\\\\n",
       " <fct> & <int>\\\\\n",
       "\\hline\n",
       "\t Ontario          & 2754\\\\\n",
       "\t British Columbia & 4244\\\\\n",
       "\\end{tabular}\n"
      ],
      "text/markdown": [
       "\n",
       "A tibble: 2 × 2\n",
       "\n",
       "| province &lt;fct&gt; | obs_count &lt;int&gt; |\n",
       "|---|---|\n",
       "| Ontario          | 2754 |\n",
       "| British Columbia | 4244 |\n",
       "\n"
      ],
      "text/plain": [
       "  province         obs_count\n",
       "1 Ontario          2754     \n",
       "2 British Columbia 4244     "
      ]
     },
     "metadata": {},
     "output_type": "display_data"
    }
   ],
   "source": [
    "tidy_data %>%\n",
    "  group_by(province) %>%\n",
    "  summarise(obs_count = n())"
   ]
  },
  {
   "cell_type": "markdown",
   "id": "6d01c67e",
   "metadata": {},
   "source": [
    "The sample size is sufficiently large, but we don't trim it to have same number of observations in each category. The higher number of observations would only improve our analysis as the obtained sample would be more representative of the population. Referring to the data-collection procedure above, we also assume that this sample is not biased, and therefore we can proceed with the analysis.\n",
    "\n",
    "Now we visualize our obtained data to visually estimate the difference in the proportion of smoking students."
   ]
  },
  {
   "cell_type": "code",
   "execution_count": 38,
   "id": "4ad377a9",
   "metadata": {
    "tags": []
   },
   "outputs": [
    {
     "data": {
      "image/png": "[encoded data removed]",
      "text/plain": [
       "plot without title"
      ]
     },
     "metadata": {
      "image/png": {
       "height": 300,
       "width": 900
      }
     },
     "output_type": "display_data"
    }
   ],
   "source": [
    "options(repr.plot.width = 15, repr.plot.height = 5)\n",
    "\n",
    "# The bar chart is colored by the `grade` variable\n",
    "# to allow us to get a further insight into the data\n",
    "\n",
    "tidy_data %>%\n",
    "  filter(regular_smoker == \"yes\") %>%\n",
    "  ggplot(aes(x = province, fill = grade)) +\n",
    "  geom_bar(color = \"white\") +\n",
    "  labs(title = \"Number of Canadian High-school Students who Regularly Smoke by Province\",\n",
    "       x = \"Canada Province\",\n",
    "       y = \"Number of High-School Students\",\n",
    "       fill = \"Student Grade\") +\n",
    "  coord_flip() +\n",
    "  theme(text = element_text(size = text_size))"
   ]
  },
  {
   "cell_type": "markdown",
   "id": "d27c5576",
   "metadata": {},
   "source": [
    "The chart tells us that in BC and ON, high-school students are involved in smoking regardless of their grade. Also, it shows that the proportion in ON is larger, so we infer that our point estimate is going to be positive."
   ]
  },
  {
   "cell_type": "markdown",
   "id": "e7ee1d92",
   "metadata": {},
   "source": [
    "#### Point estimate calculation"
   ]
  },
  {
   "cell_type": "markdown",
   "id": "6e0c820c",
   "metadata": {},
   "source": [
    "From this point on, we don't consider `grade` as a variable because we're interested in studying all BC and ON high-school students in general. This approach inevitable introduces some ambiguity, but we think the **high-school student** a term is specific enough for our study."
   ]
  },
  {
   "cell_type": "code",
   "execution_count": 39,
   "id": "3f0f2a26",
   "metadata": {},
   "outputs": [
    {
     "data": {
      "text/html": [
       "<table class=\"dataframe\">\n",
       "<caption>A tibble: 4 × 2</caption>\n",
       "<thead>\n",
       "\t<tr><th scope=col>province</th><th scope=col>regular_smoker</th></tr>\n",
       "\t<tr><th scope=col>&lt;fct&gt;</th><th scope=col>&lt;chr&gt;</th></tr>\n",
       "</thead>\n",
       "<tbody>\n",
       "\t<tr><td>Ontario         </td><td>no </td></tr>\n",
       "\t<tr><td>Ontario         </td><td>yes</td></tr>\n",
       "\t<tr><td>British Columbia</td><td>no </td></tr>\n",
       "\t<tr><td>British Columbia</td><td>yes</td></tr>\n",
       "</tbody>\n",
       "</table>\n"
      ],
      "text/latex": [
       "A tibble: 4 × 2\n",
       "\\begin{tabular}{ll}\n",
       " province & regular\\_smoker\\\\\n",
       " <fct> & <chr>\\\\\n",
       "\\hline\n",
       "\t Ontario          & no \\\\\n",
       "\t Ontario          & yes\\\\\n",
       "\t British Columbia & no \\\\\n",
       "\t British Columbia & yes\\\\\n",
       "\\end{tabular}\n"
      ],
      "text/markdown": [
       "\n",
       "A tibble: 4 × 2\n",
       "\n",
       "| province &lt;fct&gt; | regular_smoker &lt;chr&gt; |\n",
       "|---|---|\n",
       "| Ontario          | no  |\n",
       "| Ontario          | yes |\n",
       "| British Columbia | no  |\n",
       "| British Columbia | yes |\n",
       "\n"
      ],
      "text/plain": [
       "  province         regular_smoker\n",
       "1 Ontario          no            \n",
       "2 Ontario          yes           \n",
       "3 British Columbia no            \n",
       "4 British Columbia yes           "
      ]
     },
     "metadata": {},
     "output_type": "display_data"
    }
   ],
   "source": [
    "# Removes the `grade` column\n",
    "sample <- tidy_data %>%\n",
    "  select(-grade)\n",
    "\n",
    "# Shows all possible combinations of our data set rows\n",
    "sample %>%\n",
    "  distinct()"
   ]
  },
  {
   "cell_type": "markdown",
   "id": "20509e18",
   "metadata": {},
   "source": [
    "Next, we need to find the proportions of regular smokers in each province."
   ]
  },
  {
   "cell_type": "code",
   "execution_count": 40,
   "id": "5e142a3a",
   "metadata": {},
   "outputs": [
    {
     "data": {
      "text/html": [
       "<table class=\"dataframe\">\n",
       "<caption>A tibble: 2 × 2</caption>\n",
       "<thead>\n",
       "\t<tr><th scope=col>province</th><th scope=col>prop</th></tr>\n",
       "\t<tr><th scope=col>&lt;fct&gt;</th><th scope=col>&lt;dbl&gt;</th></tr>\n",
       "</thead>\n",
       "<tbody>\n",
       "\t<tr><td>Ontario         </td><td>0.009077705</td></tr>\n",
       "\t<tr><td>British Columbia</td><td>0.004712535</td></tr>\n",
       "</tbody>\n",
       "</table>\n"
      ],
      "text/latex": [
       "A tibble: 2 × 2\n",
       "\\begin{tabular}{ll}\n",
       " province & prop\\\\\n",
       " <fct> & <dbl>\\\\\n",
       "\\hline\n",
       "\t Ontario          & 0.009077705\\\\\n",
       "\t British Columbia & 0.004712535\\\\\n",
       "\\end{tabular}\n"
      ],
      "text/markdown": [
       "\n",
       "A tibble: 2 × 2\n",
       "\n",
       "| province &lt;fct&gt; | prop &lt;dbl&gt; |\n",
       "|---|---|\n",
       "| Ontario          | 0.009077705 |\n",
       "| British Columbia | 0.004712535 |\n",
       "\n"
      ],
      "text/plain": [
       "  province         prop       \n",
       "1 Ontario          0.009077705\n",
       "2 British Columbia 0.004712535"
      ]
     },
     "metadata": {},
     "output_type": "display_data"
    }
   ],
   "source": [
    "# We group our data set by the `province` variable and\n",
    "# calculate the proportion of observations that have `regular_smoker` variable set to `yes`\n",
    "\n",
    "# Here we use the mean function to quickly calculate the needed proportions\n",
    "sample_proportions <- sample %>%\n",
    "  group_by(province) %>%\n",
    "  summarise(prop = mean(regular_smoker == \"yes\"))\n",
    "sample_proportions"
   ]
  },
  {
   "cell_type": "markdown",
   "id": "1dc9c32a",
   "metadata": {},
   "source": [
    "Finally, the code below finds the point estimate by subtracting **the BC proportion from the ON proportion**, i.e., **p̂ = p<sub><sub>ON</sub></sub> - p<sub><sub>BC</sub></sub>**"
   ]
  },
  {
   "cell_type": "code",
   "execution_count": 41,
   "id": "38bcbb64",
   "metadata": {
    "tags": []
   },
   "outputs": [
    {
     "data": {
      "text/html": [
       "0.00436516981212145"
      ],
      "text/latex": [
       "0.00436516981212145"
      ],
      "text/markdown": [
       "0.00436516981212145"
      ],
      "text/plain": [
       "[1] 0.00436517"
      ]
     },
     "metadata": {},
     "output_type": "display_data"
    }
   ],
   "source": [
    "point_estimate <- \n",
    "  sample_proportions$prop[1] - sample_proportions$prop[2]\n",
    "\n",
    "point_estimate"
   ]
  },
  {
   "cell_type": "markdown",
   "id": "d857166f-b662-4765-88c4-cb880430adbd",
   "metadata": {},
   "source": [
    "#### Why further analysis is required\n",
    "The point estimate found above tells there is a difference in the true proportions. However, it doesn't take into consideration the standard error associated with the sample we used, i.e., the sample we obtained may not be representative because the true population might have great variability and different samples would give drastically different results.\n",
    "\n",
    "Therefore, we cannot report the value above. Instead, in the next section we'll use Hypothesis Testing and Confidence Intervals to estimate our sample's degree of uncertainly and provide a more reliable result."
   ]
  },
  {
   "cell_type": "markdown",
   "id": "4ad684e1-9f5e-4634-ac5b-157c2337a5aa",
   "metadata": {},
   "source": [
    "## Hypothesis testing "
   ]
  },
  {
   "cell_type": "markdown",
   "id": "bf66509d",
   "metadata": {},
   "source": [
    "**Null hypothesis**: The proportions of high-school regular smokers in BC and ON are the same. (**p<sub><sub>ON</sub></sub> = p<sub><sub>BC</sub></sub>**).\n",
    "\n",
    "**Alternative hypothesis**: There is a difference between the proportions of BC and ON high-school regular smokers (**p<sub><sub>ON</sub></sub> $\\neq$ p<sub><sub>BC</sub></sub>**)."
   ]
  },
  {
   "cell_type": "markdown",
   "id": "4189e292-666d-4ce6-bae3-af606d83722d",
   "metadata": {},
   "source": [
    "We will use the `point_estimate` computed above as the observed test statistics (**p<sub><sub>ON</sub></sub> - p<sub><sub>BC</sub></sub>**) for hypothesis testing, plotting graphs, computing p-value and building confidence intervals."
   ]
  },
  {
   "cell_type": "markdown",
   "id": "1ee6cacd-0e3b-49fb-8a7d-a8770f4cc64e",
   "metadata": {},
   "source": [
    "#### Null Distribution"
   ]
  },
  {
   "cell_type": "markdown",
   "id": "b386934e-96e9-406b-8e35-e9689e59e83f",
   "metadata": {},
   "source": [
    "Calculation steps:\n",
    "1. Specify the response and explanatory variables and set the `success = yes` because we focus on the proportion of high-school regular smokers\n",
    "2. Generate 1000 samples, this size is sufficiently large to reduce the sample variability\n",
    "3. Calculate the proportion of high-school regular smokers in ON minus the proportion in BC for each sample"
   ]
  },
  {
   "cell_type": "code",
   "execution_count": 42,
   "id": "7ffe3b1f",
   "metadata": {},
   "outputs": [
    {
     "data": {
      "text/html": [
       "<table class=\"dataframe\">\n",
       "<caption>A infer: 6 × 2</caption>\n",
       "<thead>\n",
       "\t<tr><th scope=col>replicate</th><th scope=col>stat</th></tr>\n",
       "\t<tr><th scope=col>&lt;int&gt;</th><th scope=col>&lt;dbl&gt;</th></tr>\n",
       "</thead>\n",
       "<tbody>\n",
       "\t<tr><td>1</td><td>-0.002220915</td></tr>\n",
       "\t<tr><td>2</td><td>-0.000424710</td></tr>\n",
       "\t<tr><td>3</td><td> 0.000772760</td></tr>\n",
       "\t<tr><td>4</td><td> 0.000772760</td></tr>\n",
       "\t<tr><td>5</td><td> 0.001371495</td></tr>\n",
       "\t<tr><td>6</td><td>-0.001023445</td></tr>\n",
       "</tbody>\n",
       "</table>\n"
      ],
      "text/latex": [
       "A infer: 6 × 2\n",
       "\\begin{tabular}{ll}\n",
       " replicate & stat\\\\\n",
       " <int> & <dbl>\\\\\n",
       "\\hline\n",
       "\t 1 & -0.002220915\\\\\n",
       "\t 2 & -0.000424710\\\\\n",
       "\t 3 &  0.000772760\\\\\n",
       "\t 4 &  0.000772760\\\\\n",
       "\t 5 &  0.001371495\\\\\n",
       "\t 6 & -0.001023445\\\\\n",
       "\\end{tabular}\n"
      ],
      "text/markdown": [
       "\n",
       "A infer: 6 × 2\n",
       "\n",
       "| replicate &lt;int&gt; | stat &lt;dbl&gt; |\n",
       "|---|---|\n",
       "| 1 | -0.002220915 |\n",
       "| 2 | -0.000424710 |\n",
       "| 3 |  0.000772760 |\n",
       "| 4 |  0.000772760 |\n",
       "| 5 |  0.001371495 |\n",
       "| 6 | -0.001023445 |\n",
       "\n"
      ],
      "text/plain": [
       "  replicate stat        \n",
       "1 1         -0.002220915\n",
       "2 2         -0.000424710\n",
       "3 3          0.000772760\n",
       "4 4          0.000772760\n",
       "5 5          0.001371495\n",
       "6 6         -0.001023445"
      ]
     },
     "metadata": {},
     "output_type": "display_data"
    }
   ],
   "source": [
    "null_distribution <- sample %>%\n",
    "  droplevels() %>%\n",
    "  specify(formula = regular_smoker ~ province, success = \"yes\") %>%\n",
    "  hypothesize(null = \"independence\") %>%\n",
    "  generate(reps = 1000, type = \"permute\") %>%\n",
    "  calculate(stat = \"diff in props\", order = c(\"Ontario\", \"British Columbia\"))\n",
    "\n",
    "null_distribution %>%\n",
    "  head()"
   ]
  },
  {
   "cell_type": "markdown",
   "id": "00bbc6b6-8b01-4473-b693-502b509a1d5f",
   "metadata": {},
   "source": [
    "#### Hypothesis Test Visualization"
   ]
  },
  {
   "cell_type": "markdown",
   "id": "ce999235-cf7f-45a7-86a1-bd4c6eb9b0cc",
   "metadata": {},
   "source": [
    "Here we visualize the null distribution with `bins = 10`, and add a vertical red line representing the observed test statistic, i.e, an estimate we got from the sample."
   ]
  },
  {
   "cell_type": "code",
   "execution_count": 43,
   "id": "8b42036e",
   "metadata": {},
   "outputs": [
    {
     "data": {
      "image/png": "[encoded data removed]",
      "text/plain": [
       "plot without title"
      ]
     },
     "metadata": {
      "image/png": {
       "height": 480,
       "width": 900
      }
     },
     "output_type": "display_data"
    }
   ],
   "source": [
    "options(repr.plot.width = 15, repr.plot.height = 8)\n",
    "\n",
    "null_dist_plot <- visualize(null_distribution, bins = 10) +\n",
    "  shade_p_value(obs_stat = point_estimate, direction = \"both\") +\n",
    "  labs(title = \"Difference in proportion of high-school regular smokers between BC and ON\",\n",
    "       x = \"Difference in proportion\",\n",
    "       y = \"Count\") +\n",
    "  theme(text = element_text(size = text_size))\n",
    "\n",
    "null_dist_plot"
   ]
  },
  {
   "cell_type": "markdown",
   "id": "39429720-9275-4901-86c9-e48317134de0",
   "metadata": {},
   "source": [
    "The null distribution histogram is approximated form a normal distribution with mean around 0 and standard error associated with our data.\n",
    "\n",
    "The histogram shows us that the observed test statistics is located at the upper tail of the null distribution, so we suspect that it might fall out of the Confidence Interval we're going to calculate later. "
   ]
  },
  {
   "cell_type": "markdown",
   "id": "9e2ddfc4-6d52-4f98-b48b-5f6bfa1b67dc",
   "metadata": {},
   "source": [
    "#### P-value & Confidence Interval"
   ]
  },
  {
   "cell_type": "markdown",
   "id": "2d02b58d-69a1-49e6-9dc7-ea1e319ac674",
   "metadata": {},
   "source": [
    "We use infer workflow and the percentile method to compute the middle 95% values of null distribution, i.e., the distribution of the difference in proportions."
   ]
  },
  {
   "cell_type": "code",
   "execution_count": 44,
   "id": "7bd1db48",
   "metadata": {},
   "outputs": [
    {
     "data": {
      "text/html": [
       "<table class=\"dataframe\">\n",
       "<caption>A tibble: 1 × 1</caption>\n",
       "<thead>\n",
       "\t<tr><th scope=col>p_value</th></tr>\n",
       "\t<tr><th scope=col>&lt;dbl&gt;</th></tr>\n",
       "</thead>\n",
       "<tbody>\n",
       "\t<tr><td>0.036</td></tr>\n",
       "</tbody>\n",
       "</table>\n"
      ],
      "text/latex": [
       "A tibble: 1 × 1\n",
       "\\begin{tabular}{l}\n",
       " p\\_value\\\\\n",
       " <dbl>\\\\\n",
       "\\hline\n",
       "\t 0.036\\\\\n",
       "\\end{tabular}\n"
      ],
      "text/markdown": [
       "\n",
       "A tibble: 1 × 1\n",
       "\n",
       "| p_value &lt;dbl&gt; |\n",
       "|---|\n",
       "| 0.036 |\n",
       "\n"
      ],
      "text/plain": [
       "  p_value\n",
       "1 0.036  "
      ]
     },
     "metadata": {},
     "output_type": "display_data"
    }
   ],
   "source": [
    "p_value <- null_distribution %>%\n",
    "  get_p_value(obs_stat = point_estimate, direction = \"both\")\n",
    "p_value"
   ]
  },
  {
   "cell_type": "markdown",
   "id": "d41ff268-e09f-4c55-931b-08dc7a1974e0",
   "metadata": {},
   "source": [
    "Using the p-value calculated above, we now construct a 95% Confidence Interval"
   ]
  },
  {
   "cell_type": "code",
   "execution_count": 45,
   "id": "440f0568",
   "metadata": {},
   "outputs": [
    {
     "data": {
      "text/html": [
       "<table class=\"dataframe\">\n",
       "<caption>A tibble: 1 × 2</caption>\n",
       "<thead>\n",
       "\t<tr><th scope=col>lower_ci</th><th scope=col>upper_ci</th></tr>\n",
       "\t<tr><th scope=col>&lt;dbl&gt;</th><th scope=col>&lt;dbl&gt;</th></tr>\n",
       "</thead>\n",
       "<tbody>\n",
       "\t<tr><td>-0.00401712</td><td>0.003766435</td></tr>\n",
       "</tbody>\n",
       "</table>\n"
      ],
      "text/latex": [
       "A tibble: 1 × 2\n",
       "\\begin{tabular}{ll}\n",
       " lower\\_ci & upper\\_ci\\\\\n",
       " <dbl> & <dbl>\\\\\n",
       "\\hline\n",
       "\t -0.00401712 & 0.003766435\\\\\n",
       "\\end{tabular}\n"
      ],
      "text/markdown": [
       "\n",
       "A tibble: 1 × 2\n",
       "\n",
       "| lower_ci &lt;dbl&gt; | upper_ci &lt;dbl&gt; |\n",
       "|---|---|\n",
       "| -0.00401712 | 0.003766435 |\n",
       "\n"
      ],
      "text/plain": [
       "  lower_ci    upper_ci   \n",
       "1 -0.00401712 0.003766435"
      ]
     },
     "metadata": {},
     "output_type": "display_data"
    }
   ],
   "source": [
    "percentile_ci <- null_distribution %>%\n",
    "  get_confidence_interval(level = 0.95, type = \"percentile\")\n",
    "percentile_ci"
   ]
  },
  {
   "cell_type": "markdown",
   "id": "44c7bfc0-8860-46f7-8775-ed971d009151",
   "metadata": {},
   "source": [
    "The CI endpoints found above tell us that we're 95% \"confident\" that the true proportion difference **p<sub><sub>ON</sub></sub> - p<sub><sub>BC</sub></sub>** is between them."
   ]
  },
  {
   "cell_type": "code",
   "execution_count": 46,
   "id": "ae371d41",
   "metadata": {},
   "outputs": [
    {
     "data": {
      "image/png": "[encoded data removed]",
      "text/plain": [
       "plot without title"
      ]
     },
     "metadata": {
      "image/png": {
       "height": 480,
       "width": 900
      }
     },
     "output_type": "display_data"
    }
   ],
   "source": [
    "plot_with_ci <- null_dist_plot +\n",
    "  shade_confidence_interval(endpoints = percentile_ci) +\n",
    "  theme(text = element_text(size = text_size))\n",
    "plot_with_ci"
   ]
  },
  {
   "cell_type": "markdown",
   "id": "2e44cf99-abb7-4366-a6b2-7d96987c020a",
   "metadata": {},
   "source": [
    "As the diagram shows, the estimated value of **p̂** is located out of the 95% CI. Therefore, the observed test statistics is unlikely to be the true difference in proportions. \n",
    "\n",
    "!!!*Therefore, we reject the **H<sub>0</sub>** and conclude that there is a difference in the proportion of smoking students in BC and ON.*"
   ]
  },
  {
   "cell_type": "markdown",
   "id": "a91a1cfa-3a22-4a19-91a6-190a85ea3d3a",
   "metadata": {},
   "source": [
    "The p value is 0.027 which is smaller than the significance level 0.05, then we reject the null hypothesis and in favor of alternative hypothesis at 5% significance level. Therefore, we can conclude that there is a difference between the proportions of high-school regular smokers in BC and ON. \n",
    "\n",
    "Based on this conclusion and the observed test statistic, this data suggests that **ON has a higher proportion of high-school regular smokers than British Columbia**."
   ]
  },
  {
   "cell_type": "markdown",
   "id": "d9a2e37e",
   "metadata": {},
   "source": [
    "## Evaluation"
   ]
  },
  {
   "cell_type": "markdown",
   "id": "af00bacf",
   "metadata": {},
   "source": [
    "#### Expectations\n",
    "We expect the true proportion difference to be a small value because our graph above and the point estimate show that there's a little difference between the sample proportions.\n",
    "\n",
    "#### Future questions\n",
    "Others can extend our research question by comparing the proportions of high-school smoking students between other Canadian provinces.\n",
    "Using data obtained from such a study would let us know if we can extrapolate the data for students throughout Canada using this study, or if the data is not representative which would disallow extrapolation as a method. "
   ]
  },
  {
   "cell_type": "markdown",
   "id": "098e2ce7",
   "metadata": {
    "pycharm": {
     "name": "#%% md\n"
    }
   },
   "source": [
    "## References\n",
    "Burton, Suzan, et al. “‘Smoking Is Bad, It’s Not Cool…yet\n",
    "I’m Still Doing It’: Cues for Tobacco Consumption in a ‘Dark’ Market.” *Journal\n",
    "of Business Research*, vol. 68, no. 10, 1 Oct. 2015, pp. 2067–2074,\n",
    "www.sciencedirect.com/science/article/pii/S0148296315001186, 10.1016/j.jbusres.2015.03.004.\n",
    "Accessed 14 Dec. 2021.\n",
    "\n",
    "Canada, Health, and PROPEL Centre for Population Health\n",
    "Impact. “2018/2019 Canadian Student Tobacco, Alcohol and Drugs Survey.” *Abacus.library.ubc.ca*,\n",
    "18 Nov. 2020, abacus.library.ubc.ca/dataset.xhtml?persistentId=hdl:11272.1/AB2/WEFOHY.\n",
    "Accessed 1 Mar. 2022.\n",
    "\n",
    "Johnson, Joy L., et al. “Socio-Demographic Correlates of\n",
    "Cigarette Smoking among High School Students.” *Canadian Journal of Public\n",
    "Health*, vol. 95, no. 4, July 2004, pp. 268–271, 10.1007/bf03405129.\n",
    "Accessed 5 May 2020.\n",
    "\n",
    "Reitsma, Angela H., and Steve Manske. “Smoking in Ontario\n",
    "Schools.” *Canadian Journal of Public Health*, vol. 95, no. 3, May 2004,\n",
    "pp. 214–218, 10.1007/bf03403652. Accessed 29 Oct. 2019."
   ]
  },
  {
   "cell_type": "markdown",
   "id": "13482281",
   "metadata": {},
   "source": [
    "**Word Count: 623**"
   ]
  }
 ],
 "metadata": {
  "kernelspec": {
   "display_name": "R",
   "language": "R",
   "name": "ir"
  },
  "language_info": {
   "codemirror_mode": "r",
   "file_extension": ".r",
   "mimetype": "text/x-r-source",
   "name": "R",
   "pygments_lexer": "r",
   "version": "4.1.1"
  }
 },
 "nbformat": 4,
 "nbformat_minor": 5
}
